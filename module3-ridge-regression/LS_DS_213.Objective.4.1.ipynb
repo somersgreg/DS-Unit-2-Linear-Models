{
 "metadata": {
  "language_info": {
   "codemirror_mode": {
    "name": "ipython",
    "version": 3
   },
   "file_extension": ".py",
   "mimetype": "text/x-python",
   "name": "python",
   "nbconvert_exporter": "python",
   "pygments_lexer": "ipython3",
   "version": "3.9.6"
  },
  "orig_nbformat": 4,
  "kernelspec": {
   "name": "python3",
   "display_name": "Python 3.9.6 64-bit"
  },
  "interpreter": {
   "hash": "63fd5069d213b44bf678585dea6b12cceca9941eaf7f819626cde1f2670de90d"
  }
 },
 "nbformat": 4,
 "nbformat_minor": 2,
 "cells": [
  {
   "source": [
    "#  Objective 4\n",
    "\n",
    "\n",
    "\n",
    "\n"
   ],
   "cell_type": "markdown",
   "metadata": {}
  },
  {
   "cell_type": "code",
   "execution_count": 1,
   "metadata": {},
   "outputs": [],
   "source": [
    "# Generate the practice data set\n",
    "import numpy as np\n",
    "\n",
    "np.random.seed(15)\n",
    "x = 5 * np.random.rand(50)\n",
    "y = abs(0.5*np.sin(x) + 0.5 * np.random.rand(50))*10\n",
    "\n",
    "# Create the feature matrix \n",
    "X = x[:, np.newaxis]\n",
    "\n",
    "# Fit a linear regression model\n",
    "from sklearn.linear_model import LinearRegression\n",
    "model = LinearRegression()\n",
    "model.fit(X, y)\n",
    "\n",
    "# Create the data for the model (best-fit line)\n",
    "xfit = np.linspace(0, 5, 1000)\n",
    "Xfit = xfit[:, np.newaxis]\n",
    "yfit = model.predict(Xfit)"
   ]
  },
  {
   "cell_type": "code",
   "execution_count": 2,
   "metadata": {},
   "outputs": [],
   "source": [
    "# Fit a linear regression with polynomial features\n",
    "from sklearn.preprocessing import PolynomialFeatures\n",
    "from sklearn.pipeline import make_pipeline\n",
    "\n",
    "poly_model = make_pipeline(PolynomialFeatures(15),\n",
    "                           LinearRegression())\n",
    "\n",
    "# Create the data for the model (best-fit line)\n",
    "poly_model.fit(x[:, np.newaxis], y)\n",
    "yfit_poly = poly_model.predict(xfit[:, np.newaxis])"
   ]
  },
  {
   "cell_type": "code",
   "execution_count": 3,
   "metadata": {},
   "outputs": [],
   "source": [
    "# Fit a ridge regression with polynomial features\n",
    "from sklearn.linear_model import Ridge\n",
    "\n",
    "ridge_model = make_pipeline(PolynomialFeatures(15),\n",
    "                           Ridge(normalize=True, alpha=0.05))\n",
    "\n",
    "ridge_model.fit(x[:, np.newaxis], y)\n",
    "\n",
    "# Create the data for the model (best-fit line)\n",
    "yfit_ridge = ridge_model.predict(xfit[:, np.newaxis])\n"
   ]
  },
  {
   "cell_type": "code",
   "execution_count": 4,
   "metadata": {},
   "outputs": [
    {
     "output_type": "display_data",
     "data": {
      "text/plain": "<Figure size 720x360 with 0 Axes>"
     },
     "metadata": {}
    }
   ],
   "source": [
    "import matplotlib.pyplot as plt\n",
    "\n",
    "fig, ax = plt.subplots(figsize=(10,5))\n",
    "ax.scatter(x,y)\n",
    "\n",
    "ax.plot(xfit, yfit, linestyle='--', label='linear regression')\n",
    "ax.plot(xfit, yfit_poly, linestyle = '-.', label='linear regression (polynomial)')\n",
    "ax.plot(xfit, yfit_ridge, label='ridge regression')\n",
    "\n",
    "ax.set_ylim([0, 10])\n",
    "\n",
    "ax.set_xlabel('Hours after opening')\n",
    "ax.set_ylabel('Ice cream sales')\n",
    "ax.legend();\n",
    "\n",
    "fig.clf()"
   ]
  },
  {
   "cell_type": "code",
   "execution_count": null,
   "metadata": {},
   "outputs": [],
   "source": []
  }
 ]
}