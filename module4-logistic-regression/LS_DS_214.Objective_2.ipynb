{
 "metadata": {
  "language_info": {
   "codemirror_mode": {
    "name": "ipython",
    "version": 3
   },
   "file_extension": ".py",
   "mimetype": "text/x-python",
   "name": "python",
   "nbconvert_exporter": "python",
   "pygments_lexer": "ipython3",
   "version": 3
  },
  "orig_nbformat": 4
 },
 "nbformat": 4,
 "nbformat_minor": 2,
 "cells": [
  {
   "source": [
    "# Objective 02 - Begin with baselines for classification\n",
    "## Overview\n",
    "When we fit a model to our data and look at the model score, we need something to which to compare that score. As we covered in Module 1, a baseline is a simple estimate or prediction for a model. A baseline can be determined from descriptive statistics such as the mean value or a variable, or even a simple linear regression for two variables. We started by finding a baseline for a linear regression problem where we are predicting using continuous variables. From our penguin data set, we used a baseline estimate of the ratio of flipper length to body mass.\n",
    "\n",
    "In this module, we are going to focus on classification problems: a classification model predicts which class a set of observations belongs to. Classification problems deal with discrete or non-continuous variables. As an example of a classification problem, consider the Old Faithful geyser data set where we have some information about how long each eruption lasts and the length of time between eruptions. There are two features (duration and waiting) and one target containing two classes (kind). We want to use the duration and waiting features to predict which class the geyser eruption belongs to (long or short).\n",
    "\n",
    "## Classification Baseline\n",
    "Before we set up our model, we need to start with a baseline. For a classification problem, a common starting place is to find the most common class and use that as a baseline. We'll start by considering a binary classification problem, where there are only two classes. In our geyser data set, there are two kinds of geyser eruptions, short and long, so this data set is suitable for a binary classification problem.\n",
    "\n",
    "Why do we use the most common class as a starting baseline? If we think about how we make a prediction, we would be most likely to be correct if our guess is the most common class. Let's explore the data set to find the most common class and then calculate the accuracy of this baseline.\n",
    "\n",
    "### Follow Along\n",
    "\n",
    "The eruption data set is available in the `seaborn` plotting library data sets, so it's easy to load and use. We'll start the usual way by loading the data and viewing it."
   ],
   "cell_type": "markdown",
   "metadata": {}
  },
  {
   "cell_type": "code",
   "execution_count": null,
   "metadata": {},
   "outputs": [],
   "source": [
    "# Import numpy and seaborn\n",
    "import numpy as np\n",
    "import seaborn as sns\n",
    "\n",
    "geyser = sns.load_dataset(\"geyser\")\n",
    "display(geyser.head())"
   ]
  },
  {
   "source": [
    "display(geyser.describe())\n",
    "duration\twaiting\tkind\n",
    "0\t3.600\t79\tlong\n",
    "1\t1.800\t54\tshort\n",
    "2\t3.333\t74\tlong\n",
    "3\t2.283\t62\tshort\n",
    "4\t4.533\t85\tlong\n",
    "duration\twaiting\n",
    "count\t272.000000\t272.000000\n",
    "mean\t3.487783\t70.897059\n",
    "std\t1.141371\t13.594974\n",
    "min\t1.600000\t43.000000\n",
    "25%\t2.162750\t58.000000\n",
    "50%\t4.000000\t76.000000\n",
    "75%\t4.454250\t82.000000\n",
    "max\t5.100000\t96.000000\n",
    "The next step is to see how many observations are in each class. We can use the value_counts() method on the kind column."
   ],
   "cell_type": "markdown",
   "metadata": {}
  },
  {
   "cell_type": "code",
   "execution_count": null,
   "metadata": {},
   "outputs": [],
   "source": [
    "# Find the number of counts for each type of eruption\n",
    "geyser['kind'].value_counts()"
   ]
  },
  {
   "cell_type": "code",
   "execution_count": null,
   "metadata": {},
   "outputs": [],
   "source": [
    "long     172\n",
    "short    100\n",
    "Name: kind, dtype: int64"
   ]
  },
  {
   "source": [
    "Here, we have more observations for the long class. If we were given a set of values for the duration and waiting interval and predicted long for the class, we would be correct 63% of the time (number of long values divided by the total number of observations: 172/272 = 0.63). This baseline is the number we would like to beat when we actually train and fit a model to our data set.\n",
    "\n",
    "Challenge\n",
    "Using the penguin data set and the iris data set, find the most common classes for the target variables (\"sex\" for the penguin data and \"species\" for the iris data). For each of these data sets, what is the baseline?\n",
    "\n",
    "Additional Resources\n",
    "Old Faithful Geyser Data['http://www.stat.cmu.edu/~larry/all-of-statistics/=data/faithful.dat']"
   ],
   "cell_type": "markdown",
   "metadata": {}
  }
 ]
}