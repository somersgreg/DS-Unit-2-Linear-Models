{
 "cells": [
  {
   "cell_type": "markdown",
   "metadata": {},
   "source": [
    "Lambda School Data Science\n",
    "\n",
    "*Unit 2, Sprint 1, Module 4*\n",
    "\n",
    "---"
   ]
  },
  {
   "cell_type": "markdown",
   "metadata": {},
   "source": [
    "# Module Project: Logistic Regression\n",
    "\n",
    "Do you like burritos? 🌯 You're in luck then, because in this project you'll create a model to predict whether a burrito is `'Great'`.\n",
    "\n",
    "The dataset for this assignment comes from [Scott Cole](https://srcole.github.io/100burritos/), a San Diego-based data scientist and burrito enthusiast. \n",
    "\n",
    "## Directions\n",
    "\n",
    "The tasks for this project are the following:\n",
    "\n",
    "- **Task 1:** Import `csv` file using `wrangle` function.\n",
    "- **Task 2:** Conduct exploratory data analysis (EDA), and modify `wrangle` function .\n",
    "- **Task 3:** Split data into feature matrix `X` and target vector `y`.\n",
    "- **Task 4:** Split feature matrix `X` and target vector `y` into training and test sets.\n",
    "- **Task 5:** Establish the baseline accuracy score for your dataset.\n",
    "- **Task 6:** Build `model_logr` using a pipeline that includes three transfomers and `LogisticRegression` predictor. Train model on `X_train` and `X_test`.\n",
    "- **Task 7:** Calculate the training and test accuracy score for your model.\n",
    "- **Task 8:** Create a horizontal bar chart showing the 10 most influencial features for your  model. \n",
    "- **Task 9:** Demonstrate and explain the differences between `model_lr.predict()` and `model_lr.predict_proba()`.\n",
    "\n",
    "**Note** \n",
    "\n",
    "You should limit yourself to the following libraries:\n",
    "\n",
    "- `category_encoders`\n",
    "- `matplotlib`\n",
    "- `pandas`\n",
    "- `sklearn`"
   ]
  },
  {
   "cell_type": "code",
   "execution_count": 202,
   "metadata": {},
   "outputs": [],
   "source": [
    "%%capture\n",
    "import sys\n",
    "\n",
    "# If you're on Colab:\n",
    "if 'google.colab' in sys.modules:\n",
    "    DATA_PATH = 'https://raw.githubusercontent.com/LambdaSchool/DS-Unit-2-Linear-Models/master/data/'\n",
    "    !pip install category_encoders==2.*\n",
    "\n",
    "# If you're working locally:\n",
    "else:\n",
    "    DATA_PATH = '../data/'"
   ]
  },
  {
   "cell_type": "code",
   "execution_count": 203,
   "metadata": {},
   "outputs": [],
   "source": [
    "filepath = DATA_PATH + 'burritos/burritos.csv'"
   ]
  },
  {
   "cell_type": "code",
   "execution_count": 243,
   "metadata": {},
   "outputs": [],
   "source": [
    "import pandas as pd\n",
    "import numpy as np\n",
    "import matplotlib.pyplot as plt\n",
    "from category_encoders import OneHotEncoder\n",
    "from sklearn.linear_model import LinearRegression\n",
    "from sklearn.impute import SimpleImputer\n",
    "from sklearn.preprocessing import StandardScaler\n",
    "from sklearn.pipeline import make_pipeline\n",
    "from sklearn.linear_model import LogisticRegression"
   ]
  },
  {
   "cell_type": "markdown",
   "metadata": {},
   "source": [
    "# I. Wrangle Data"
   ]
  },
  {
   "cell_type": "code",
   "execution_count": 205,
   "metadata": {},
   "outputs": [],
   "source": [
    "def wrangle(filepath):\n",
    "    # Import w/ DateTimeIndex\n",
    "    df = pd.read_csv(filepath, parse_dates=['Date'],\n",
    "                     index_col='Date')\n",
    "    df = df.sort_index()\n",
    "    # Drop unrated burritos\n",
    "    df.dropna(subset=['overall'], inplace=True)\n",
    "    \n",
    "    # Derive binary classification target:\n",
    "    # We define a 'Great' burrito as having an\n",
    "    # overall rating of 4 or higher, on a 5 point scale\n",
    "    df['Great'] = (df['overall'] >= 4).astype(int)\n",
    "    \n",
    "    # Drop high cardinality categoricals\n",
    "    df = df.drop(columns=['Notes', 'Location', 'Address', 'URL', 'Neighborhood'])\n",
    "#     Fix odd dates.  who knows what else is off. 🤷\n",
    "    df = df.truncate(before=pd.Timestamp('2016-01-01'))\n",
    "    \n",
    "    #DataFrame.truncate(before=None, after=None, axis=None, copy=True)\n",
    "    \n",
    "    #convert values to 1's and 0's     #make all x's true\n",
    "    df.replace(to_replace=\"Yes\",value=1,inplace=True)\n",
    "    df.replace(to_replace='No',value=0,inplace=True)\n",
    "    df = df.fillna(0)\n",
    "    df = df.replace(['X', 'x'], 1)\n",
    "    \n",
    "    # I dont want to drop rare ingredients because it might just be they are key to high ratings.\n",
    "    rarities = [col for col in df.select_dtypes('int').columns if df[col].sum() < (421*.02)]\n",
    "    print(rarities) # ['NonSD', 'Fish', 'Tomato', 'Bell peper', 'Carrots', 'Cabbage', 'Salsa.1', 'Taquito', 'Pineapple', 'Ham', 'Chile relleno', 'Nopales', 'Lobster', 'Egg', 'Mushroom', 'Bacon', 'Sushi', 'Corn', 'Zucchini']\n",
    "    #df.drop(columns= rarities, inplace=True)\n",
    "    \n",
    "    # Queso is a float\n",
    "    df.Queso = df.Queso.astype(int)\n",
    "    \n",
    "    return df"
   ]
  },
  {
   "cell_type": "markdown",
   "metadata": {},
   "source": [
    "**Task 1:** Use the above `wrangle` function to import the `burritos.csv` file into a DataFrame named `df`."
   ]
  },
  {
   "cell_type": "code",
   "execution_count": 206,
   "metadata": {},
   "outputs": [
    {
     "name": "stdout",
     "output_type": "stream",
     "text": [
      "['NonSD', 'Fish', 'Tomato', 'Bell peper', 'Carrots', 'Cabbage', 'Salsa.1', 'Taquito', 'Pineapple', 'Ham', 'Chile relleno', 'Nopales', 'Lobster', 'Egg', 'Mushroom', 'Bacon', 'Sushi', 'Corn', 'Zucchini']\n"
     ]
    }
   ],
   "source": [
    "#filepath = DATA_PATH + 'burritos/burritos.csv'\n",
    "df = wrangle(filepath)"
   ]
  },
  {
   "cell_type": "code",
   "execution_count": 207,
   "metadata": {},
   "outputs": [
    {
     "data": {
      "text/plain": [
       "Date\n",
       "2016-01-18    3.80\n",
       "2016-01-24    3.75\n",
       "2016-01-24    3.00\n",
       "2016-01-24    3.00\n",
       "2016-01-27    4.20\n",
       "Name: overall, dtype: float64"
      ]
     },
     "execution_count": 207,
     "metadata": {},
     "output_type": "execute_result"
    }
   ],
   "source": [
    "df['overall'].head()  # Press ctrl + / to comment/uncomment a block of selected code or a single unselected line.\n",
    "# Date\n",
    "# 2011-05-16    2.00\n",
    "# 2015-04-20    4.80\n",
    "# 2016-01-18    3.80\n",
    "# 2016-01-24    3.75\n",
    "# 2016-01-24    3.00\n",
    "# Name: overall, dtype: float64\n",
    "\n",
    "# Date\n",
    "# 2016-01-18    3.80\n",
    "# 2016-01-24    3.75\n",
    "# 2016-01-24    3.00\n",
    "# 2016-01-24    3.00\n",
    "# 2016-01-27    4.20\n",
    "# Name: overall, dtype: float64\n",
    "\n",
    "# Fixed odd dates.  They could have been entry mistakes but I dont know that."
   ]
  },
  {
   "cell_type": "code",
   "execution_count": 208,
   "metadata": {},
   "outputs": [],
   "source": [
    "#c# df['avg_rating'] = (df.Yelp + df.Google)/2\n",
    "# df.avg_rating #.round(0)\n",
    "# df.columns\n",
    "#># Index(['Burrito', 'Yelp', 'Google', 'Chips', 'Cost', 'Hunger', 'Mass (g)',\n",
    "#        'Density (g/mL)', 'Length', 'Circum', 'Volume', 'Tortilla', 'Temp',\n",
    "#        'Meat', 'Fillings', 'Meat:filling', 'Uniformity', 'Salsa', 'Synergy',\n",
    "#        'Wrap', 'overall', 'Rec', 'Reviewer', 'Unreliable', 'NonSD', 'Beef',\n",
    "#        'Pico', 'Guac', 'Cheese', 'Fries', 'Sour cream', 'Pork', 'Chicken',\n",
    "#        'Shrimp', 'Fish', 'Rice', 'Beans', 'Lettuce', 'Tomato', 'Bell peper',\n",
    "#        'Carrots', 'Cabbage', 'Sauce', 'Salsa.1', 'Cilantro', 'Onion',\n",
    "#        'Taquito', 'Pineapple', 'Ham', 'Chile relleno', 'Nopales', 'Lobster',\n",
    "#        'Queso', 'Egg', 'Mushroom', 'Bacon', 'Sushi', 'Avocado', 'Corn',\n",
    "#        'Zucchini', 'Great', 'avg_rating'],\n",
    "#       dtype='object')\n",
    "# df['NonSD'].sum()"
   ]
  },
  {
   "cell_type": "code",
   "execution_count": 209,
   "metadata": {},
   "outputs": [],
   "source": [
    "# df['Synergy']"
   ]
  },
  {
   "cell_type": "code",
   "execution_count": 210,
   "metadata": {},
   "outputs": [],
   "source": [
    "#df['Cheese'].sum() #159\n",
    "#c# objCol = df.select_dtypes('float64').columns\n",
    "# objCol\n",
    "#># Index(['Yelp', 'Google', 'Cost', 'Hunger', 'Mass (g)', 'Density (g/mL)',\n",
    "#        'Length', 'Circum', 'Volume', 'Tortilla', 'Temp', 'Meat', 'Fillings',\n",
    "#        'Meat:filling', 'Uniformity', 'Salsa', 'Synergy', 'Wrap', 'overall',\n",
    "#        'avg_rating'],\n",
    "#       dtype='object')\n",
    "\n",
    "#c# df.dtypes.unique\n"
   ]
  },
  {
   "cell_type": "code",
   "execution_count": null,
   "metadata": {},
   "outputs": [],
   "source": []
  },
  {
   "cell_type": "code",
   "execution_count": 211,
   "metadata": {},
   "outputs": [
    {
     "data": {
      "text/html": [
       "<div>\n",
       "<style scoped>\n",
       "    .dataframe tbody tr th:only-of-type {\n",
       "        vertical-align: middle;\n",
       "    }\n",
       "\n",
       "    .dataframe tbody tr th {\n",
       "        vertical-align: top;\n",
       "    }\n",
       "\n",
       "    .dataframe thead th {\n",
       "        text-align: right;\n",
       "    }\n",
       "</style>\n",
       "<table border=\"1\" class=\"dataframe\">\n",
       "  <thead>\n",
       "    <tr style=\"text-align: right;\">\n",
       "      <th></th>\n",
       "      <th>Burrito</th>\n",
       "      <th>Yelp</th>\n",
       "      <th>Google</th>\n",
       "      <th>Chips</th>\n",
       "      <th>Cost</th>\n",
       "      <th>Hunger</th>\n",
       "      <th>Mass (g)</th>\n",
       "      <th>Density (g/mL)</th>\n",
       "      <th>Length</th>\n",
       "      <th>Circum</th>\n",
       "      <th>...</th>\n",
       "      <th>Lobster</th>\n",
       "      <th>Queso</th>\n",
       "      <th>Egg</th>\n",
       "      <th>Mushroom</th>\n",
       "      <th>Bacon</th>\n",
       "      <th>Sushi</th>\n",
       "      <th>Avocado</th>\n",
       "      <th>Corn</th>\n",
       "      <th>Zucchini</th>\n",
       "      <th>Great</th>\n",
       "    </tr>\n",
       "    <tr>\n",
       "      <th>Date</th>\n",
       "      <th></th>\n",
       "      <th></th>\n",
       "      <th></th>\n",
       "      <th></th>\n",
       "      <th></th>\n",
       "      <th></th>\n",
       "      <th></th>\n",
       "      <th></th>\n",
       "      <th></th>\n",
       "      <th></th>\n",
       "      <th></th>\n",
       "      <th></th>\n",
       "      <th></th>\n",
       "      <th></th>\n",
       "      <th></th>\n",
       "      <th></th>\n",
       "      <th></th>\n",
       "      <th></th>\n",
       "      <th></th>\n",
       "      <th></th>\n",
       "      <th></th>\n",
       "    </tr>\n",
       "  </thead>\n",
       "  <tbody>\n",
       "    <tr>\n",
       "      <th>2016-01-18</th>\n",
       "      <td>California</td>\n",
       "      <td>3.5</td>\n",
       "      <td>4.2</td>\n",
       "      <td>0</td>\n",
       "      <td>6.49</td>\n",
       "      <td>3.0</td>\n",
       "      <td>0.0</td>\n",
       "      <td>0.0</td>\n",
       "      <td>0.0</td>\n",
       "      <td>0.0</td>\n",
       "      <td>...</td>\n",
       "      <td>0</td>\n",
       "      <td>0</td>\n",
       "      <td>0</td>\n",
       "      <td>0</td>\n",
       "      <td>0</td>\n",
       "      <td>0</td>\n",
       "      <td>0</td>\n",
       "      <td>0</td>\n",
       "      <td>0</td>\n",
       "      <td>0</td>\n",
       "    </tr>\n",
       "    <tr>\n",
       "      <th>2016-01-24</th>\n",
       "      <td>Carne asada</td>\n",
       "      <td>0.0</td>\n",
       "      <td>0.0</td>\n",
       "      <td>0</td>\n",
       "      <td>5.25</td>\n",
       "      <td>2.0</td>\n",
       "      <td>0.0</td>\n",
       "      <td>0.0</td>\n",
       "      <td>0.0</td>\n",
       "      <td>0.0</td>\n",
       "      <td>...</td>\n",
       "      <td>0</td>\n",
       "      <td>0</td>\n",
       "      <td>0</td>\n",
       "      <td>0</td>\n",
       "      <td>0</td>\n",
       "      <td>0</td>\n",
       "      <td>0</td>\n",
       "      <td>0</td>\n",
       "      <td>0</td>\n",
       "      <td>0</td>\n",
       "    </tr>\n",
       "    <tr>\n",
       "      <th>2016-01-24</th>\n",
       "      <td>Carnitas</td>\n",
       "      <td>0.0</td>\n",
       "      <td>0.0</td>\n",
       "      <td>0</td>\n",
       "      <td>4.85</td>\n",
       "      <td>1.5</td>\n",
       "      <td>0.0</td>\n",
       "      <td>0.0</td>\n",
       "      <td>0.0</td>\n",
       "      <td>0.0</td>\n",
       "      <td>...</td>\n",
       "      <td>0</td>\n",
       "      <td>0</td>\n",
       "      <td>0</td>\n",
       "      <td>0</td>\n",
       "      <td>0</td>\n",
       "      <td>0</td>\n",
       "      <td>0</td>\n",
       "      <td>0</td>\n",
       "      <td>0</td>\n",
       "      <td>0</td>\n",
       "    </tr>\n",
       "    <tr>\n",
       "      <th>2016-01-24</th>\n",
       "      <td>California</td>\n",
       "      <td>3.5</td>\n",
       "      <td>3.3</td>\n",
       "      <td>0</td>\n",
       "      <td>5.45</td>\n",
       "      <td>3.5</td>\n",
       "      <td>0.0</td>\n",
       "      <td>0.0</td>\n",
       "      <td>0.0</td>\n",
       "      <td>0.0</td>\n",
       "      <td>...</td>\n",
       "      <td>0</td>\n",
       "      <td>0</td>\n",
       "      <td>0</td>\n",
       "      <td>0</td>\n",
       "      <td>0</td>\n",
       "      <td>0</td>\n",
       "      <td>0</td>\n",
       "      <td>0</td>\n",
       "      <td>0</td>\n",
       "      <td>0</td>\n",
       "    </tr>\n",
       "    <tr>\n",
       "      <th>2016-01-27</th>\n",
       "      <td>California</td>\n",
       "      <td>4.0</td>\n",
       "      <td>3.8</td>\n",
       "      <td>1</td>\n",
       "      <td>6.59</td>\n",
       "      <td>4.0</td>\n",
       "      <td>0.0</td>\n",
       "      <td>0.0</td>\n",
       "      <td>0.0</td>\n",
       "      <td>0.0</td>\n",
       "      <td>...</td>\n",
       "      <td>0</td>\n",
       "      <td>0</td>\n",
       "      <td>0</td>\n",
       "      <td>0</td>\n",
       "      <td>0</td>\n",
       "      <td>0</td>\n",
       "      <td>0</td>\n",
       "      <td>0</td>\n",
       "      <td>0</td>\n",
       "      <td>1</td>\n",
       "    </tr>\n",
       "  </tbody>\n",
       "</table>\n",
       "<p>5 rows × 61 columns</p>\n",
       "</div>"
      ],
      "text/plain": [
       "                Burrito  Yelp  Google  Chips  Cost  Hunger  Mass (g)  \\\n",
       "Date                                                                   \n",
       "2016-01-18  California    3.5     4.2      0  6.49     3.0       0.0   \n",
       "2016-01-24  Carne asada   0.0     0.0      0  5.25     2.0       0.0   \n",
       "2016-01-24     Carnitas   0.0     0.0      0  4.85     1.5       0.0   \n",
       "2016-01-24  California    3.5     3.3      0  5.45     3.5       0.0   \n",
       "2016-01-27   California   4.0     3.8      1  6.59     4.0       0.0   \n",
       "\n",
       "            Density (g/mL)  Length  Circum  ...  Lobster  Queso  Egg  \\\n",
       "Date                                        ...                        \n",
       "2016-01-18             0.0     0.0     0.0  ...        0      0    0   \n",
       "2016-01-24             0.0     0.0     0.0  ...        0      0    0   \n",
       "2016-01-24             0.0     0.0     0.0  ...        0      0    0   \n",
       "2016-01-24             0.0     0.0     0.0  ...        0      0    0   \n",
       "2016-01-27             0.0     0.0     0.0  ...        0      0    0   \n",
       "\n",
       "            Mushroom  Bacon  Sushi  Avocado  Corn  Zucchini  Great  \n",
       "Date                                                                \n",
       "2016-01-18         0      0      0        0     0         0      0  \n",
       "2016-01-24         0      0      0        0     0         0      0  \n",
       "2016-01-24         0      0      0        0     0         0      0  \n",
       "2016-01-24         0      0      0        0     0         0      0  \n",
       "2016-01-27         0      0      0        0     0         0      1  \n",
       "\n",
       "[5 rows x 61 columns]"
      ]
     },
     "execution_count": 211,
     "metadata": {},
     "output_type": "execute_result"
    }
   ],
   "source": [
    "df.head()"
   ]
  },
  {
   "cell_type": "code",
   "execution_count": 215,
   "metadata": {},
   "outputs": [],
   "source": [
    "#df.Volume"
   ]
  },
  {
   "cell_type": "code",
   "execution_count": 214,
   "metadata": {},
   "outputs": [],
   "source": [
    "#df['Beef'].head()"
   ]
  },
  {
   "cell_type": "markdown",
   "metadata": {},
   "source": [
    "During your exploratory data analysis, note that there are several columns whose data type is `object` but that seem to be a binary encoding. For example, `df['Beef'].head()` returns:\n",
    "\n",
    "```\n",
    "0      x\n",
    "1      x\n",
    "2    NaN\n",
    "3      x\n",
    "4      x\n",
    "Name: Beef, dtype: object\n",
    "```\n",
    "\n",
    "**Task 2:** Change the `wrangle` function so that these columns are properly encoded as `0` and `1`s. Be sure your code handles upper- and lowercase `X`s, and `NaN`s."
   ]
  },
  {
   "cell_type": "code",
   "execution_count": null,
   "metadata": {},
   "outputs": [],
   "source": [
    "# Conduct your exploratory data analysis here\n",
    "# And modify the `wrangle` function above."
   ]
  },
  {
   "cell_type": "markdown",
   "metadata": {},
   "source": [
    "If you explore the `'Burrito'` column of `df`, you'll notice that it's a high-cardinality categorical feature. You'll also notice that there's a lot of overlap between the categories. \n",
    "\n",
    "**Stretch Goal:** Change the `wrangle` function above so that it engineers four new features: `'california'`, `'asada'`, `'surf'`, and `'carnitas'`. Each row should have a `1` or `0` based on the text information in the `'Burrito'` column. For example, here's how the first 5 rows of the dataset would look.\n",
    "\n",
    "| **Burrito** | **california** | **asada** | **surf** | **carnitas** |\n",
    "| :---------- | :------------: | :-------: | :------: | :----------: |\n",
    "| California  |       1        |     0     |    0     |      0       |\n",
    "| California  |       1        |     0     |    0     |      0       |\n",
    "|  Carnitas   |       0        |     0     |    0     |      1       |\n",
    "| Carne asada |       0        |     1     |    0     |      0       |\n",
    "| California  |       1        |     0     |    0     |      0       |\n",
    "\n",
    "**Note:** Be sure to also drop the `'Burrito'` once you've engineered your new features."
   ]
  },
  {
   "cell_type": "code",
   "execution_count": null,
   "metadata": {},
   "outputs": [],
   "source": [
    "# Conduct your exploratory data analysis here\n",
    "# And modify the `wrangle` function above."
   ]
  },
  {
   "cell_type": "code",
   "execution_count": 216,
   "metadata": {},
   "outputs": [],
   "source": [
    "#df.Burrito.head()"
   ]
  },
  {
   "cell_type": "code",
   "execution_count": 217,
   "metadata": {},
   "outputs": [],
   "source": [
    "#df.Queso.head()"
   ]
  },
  {
   "cell_type": "code",
   "execution_count": 218,
   "metadata": {},
   "outputs": [],
   "source": [
    "#df.value_counts # [421 rows x 59 columns]>"
   ]
  },
  {
   "cell_type": "code",
   "execution_count": 219,
   "metadata": {},
   "outputs": [],
   "source": [
    "#df.Burrito.value_counts()\n",
    "#n# First run: Name: Burrito, Length: 132, dtype: int64"
   ]
  },
  {
   "cell_type": "code",
   "execution_count": 220,
   "metadata": {},
   "outputs": [],
   "source": [
    "#df.info()"
   ]
  },
  {
   "cell_type": "code",
   "execution_count": null,
   "metadata": {},
   "outputs": [],
   "source": []
  },
  {
   "cell_type": "markdown",
   "metadata": {},
   "source": [
    "# II. Split Data\n",
    "\n",
    "**Task 3:** Split your dataset into the feature matrix `X` and the target vector `y`. You want to predict `'Great'`."
   ]
  },
  {
   "cell_type": "code",
   "execution_count": 223,
   "metadata": {},
   "outputs": [],
   "source": [
    "target= 'Great'\n",
    "\n",
    "X = df.drop(columns=target)\n",
    "y = df[target]"
   ]
  },
  {
   "cell_type": "markdown",
   "metadata": {},
   "source": [
    "**Task 4:** Split `X` and `y` into a training set (`X_train`, `y_train`) and a test set (`X_test`, `y_test`).\n",
    "\n",
    "- Your training set should include data from 2016 through 2017. \n",
    "- Your test set should include data from 2018 and later."
   ]
  },
  {
   "cell_type": "code",
   "execution_count": 222,
   "metadata": {},
   "outputs": [
    {
     "name": "stdout",
     "output_type": "stream",
     "text": [
      "2016\n",
      "2026\n"
     ]
    }
   ],
   "source": [
    "print(df.index.year.min()) #2011 <- I removed 2 odd dates to fix this\n",
    "print(df.index.year.max()) # 2016"
   ]
  },
  {
   "cell_type": "code",
   "execution_count": 221,
   "metadata": {},
   "outputs": [],
   "source": [
    "#df['old'] = (df.index.year < 2016) # messing around. returns bool vals\n",
    "#df['old'].head()"
   ]
  },
  {
   "cell_type": "code",
   "execution_count": 224,
   "metadata": {},
   "outputs": [],
   "source": [
    "max_train = 2017\n",
    "min_test = 2018\n",
    "mask_train = (X.index.year <= max_train)# & (X.index.year < range_test) # dont need because I 'fixed' the index\n",
    "mask_test = (X.index.year >= min_test)\n",
    "\n",
    "X_train, y_train = X.loc[mask_train], y.loc[mask_train]\n",
    "X_test, y_test = X.loc[mask_test], y.loc[mask_test]"
   ]
  },
  {
   "cell_type": "code",
   "execution_count": 226,
   "metadata": {},
   "outputs": [
    {
     "data": {
      "text/plain": [
       "((419,), (419, 60))"
      ]
     },
     "execution_count": 226,
     "metadata": {},
     "output_type": "execute_result"
    }
   ],
   "source": [
    "y.shape, X.shape"
   ]
  },
  {
   "cell_type": "code",
   "execution_count": 232,
   "metadata": {},
   "outputs": [
    {
     "data": {
      "text/plain": [
       "((381, 60), (381,), (38, 60), (38,))"
      ]
     },
     "execution_count": 232,
     "metadata": {},
     "output_type": "execute_result"
    }
   ],
   "source": [
    "# X_train.shape #(381, 60)\n",
    "#X_test.shape #(38, 60)\n",
    "#X_train.head()\n",
    "X_train.shape, y_train.shape, X_test.shape, y_test.shape"
   ]
  },
  {
   "cell_type": "markdown",
   "metadata": {},
   "source": [
    "# III. Establish Baseline\n",
    "\n",
    "**Task 5:** Since this is a **classification** problem, you should establish a baseline accuracy score. Figure out what is the majority class in `y_train` and what percentage of your training observations it represents. "
   ]
  },
  {
   "cell_type": "code",
   "execution_count": 241,
   "metadata": {},
   "outputs": [
    {
     "name": "stdout",
     "output_type": "stream",
     "text": [
      "Baseline Accuracy Score: 0.5826771653543307\n"
     ]
    }
   ],
   "source": [
    "baseline_acc = y_train.value_counts(normalize=True).max()\n",
    "print('Baseline Accuracy Score:', baseline_acc)"
   ]
  },
  {
   "cell_type": "markdown",
   "metadata": {},
   "source": [
    "# IV. Build Model\n",
    "\n",
    "**Task 6:** Build a `Pipeline` named `model_logr`, and fit it to your training data. Your pipeline should include:\n",
    "\n",
    "- a `OneHotEncoder` transformer for categorical features, \n",
    "- a `SimpleImputer` transformer to deal with missing values, \n",
    "- a [`StandarScaler`](https://scikit-learn.org/stable/modules/generated/sklearn.preprocessing.StandardScaler.html) transfomer (which often improves performance in a logistic regression model), and \n",
    "- a `LogisticRegression` predictor."
   ]
  },
  {
   "cell_type": "code",
   "execution_count": 246,
   "metadata": {},
   "outputs": [
    {
     "name": "stderr",
     "output_type": "stream",
     "text": [
      "c:\\python39\\lib\\site-packages\\category_encoders\\utils.py:21: FutureWarning: is_categorical is deprecated and will be removed in a future version.  Use is_categorical_dtype instead\n",
      "  elif pd.api.types.is_categorical(cols):\n"
     ]
    },
    {
     "data": {
      "text/plain": [
       "Pipeline(steps=[('onehotencoder',\n",
       "                 OneHotEncoder(cols=['Burrito', 'Rec', 'Reviewer'],\n",
       "                               use_cat_names=True)),\n",
       "                ('simpleimputer', SimpleImputer()),\n",
       "                ('standardscaler', StandardScaler()),\n",
       "                ('logisticregression', LogisticRegression())])"
      ]
     },
     "execution_count": 246,
     "metadata": {},
     "output_type": "execute_result"
    }
   ],
   "source": [
    "model_logr = make_pipeline(OneHotEncoder(use_cat_names=True),\n",
    "                           SimpleImputer(strategy='mean'),\n",
    "                           StandardScaler(),\n",
    "                           LogisticRegression() )\n",
    "model_logr.fit(X_train, y_train)"
   ]
  },
  {
   "cell_type": "code",
   "execution_count": 250,
   "metadata": {},
   "outputs": [
    {
     "name": "stdout",
     "output_type": "stream",
     "text": [
      "New Accuracy 0.9973753280839895\n"
     ]
    }
   ],
   "source": [
    "print('New Accuracy', model_logr.score(X_train, y_train))"
   ]
  },
  {
   "cell_type": "markdown",
   "metadata": {},
   "source": [
    "# IV. Check Metrics\n",
    "\n",
    "**Task 7:** Calculate the training and test accuracy score for `model_lr`."
   ]
  },
  {
   "cell_type": "code",
   "execution_count": 251,
   "metadata": {},
   "outputs": [
    {
     "name": "stdout",
     "output_type": "stream",
     "text": [
      "Training MAE: 0.9973753280839895\n",
      "Test MAE: 0.8157894736842105\n"
     ]
    }
   ],
   "source": [
    "training_acc = model_logr.score(X_train, y_train)\n",
    "test_acc = model_logr.score(X_test, y_test)\n",
    "\n",
    "print('Training MAE:', training_acc)\n",
    "print('Test MAE:', test_acc)"
   ]
  },
  {
   "cell_type": "markdown",
   "metadata": {},
   "source": [
    "# V. Communicate Results\n",
    "\n",
    "**Task 8:** Create a horizontal barchart that plots the 10 most important coefficients for `model_lr`, sorted by absolute value.\n",
    "\n",
    "**Note:** Since you created your model using a `Pipeline`, you'll need to use the [`named_steps`](https://scikit-learn.org/stable/modules/generated/sklearn.pipeline.Pipeline.html) attribute to access the coefficients in your `LogisticRegression` predictor. Be sure to look at the shape of the coefficients array before you combine it with the feature names."
   ]
  },
  {
   "cell_type": "code",
   "execution_count": 252,
   "metadata": {},
   "outputs": [
    {
     "data": {
      "image/png": "[encoded data removed]",
      "text/plain": [
       "<Figure size 432x288 with 1 Axes>"
      ]
     },
     "metadata": {
      "needs_background": "light"
     },
     "output_type": "display_data"
    }
   ],
   "source": [
    "# Create your horizontal barchart here.\n",
    "coefficients = model_logr.named_steps['logisticregression'].coef_[0]\n",
    "features = model_logr.named_steps['onehotencoder'].get_feature_names()\n",
    "feat_imp = pd.Series(coefficients, index=features).sort_values(key=abs)\n",
    "feat_imp.tail(10).plot(kind='barh');"
   ]
  },
  {
   "cell_type": "markdown",
   "metadata": {},
   "source": [
    "There is more than one way to generate predictions with `model_lr`. For instance, you can use [`predict`](https://scikit-learn.org/stable/modules/generated/sklearn.linear_model.LogisticRegression.html?highlight=logisticregression) or [`predict_proba`](https://scikit-learn.org/stable/modules/generated/sklearn.linear_model.LogisticRegression.html?highlight=logisticregression#sklearn.linear_model.LogisticRegression.predict_proba).\n",
    "\n",
    "**Task 9:** Generate predictions for `X_test` using both `predict` and `predict_proba`. Then below, write a summary of the differences in the output for these two methods. You should answer the following questions:\n",
    "\n",
    "- What data type do `predict` and `predict_proba` output?\n",
    "- What are the shapes of their different output?\n",
    "- What numerical values are in the output?\n",
    "- What do those numerical values represent?"
   ]
  },
  {
   "cell_type": "code",
   "execution_count": 253,
   "metadata": {},
   "outputs": [
    {
     "data": {
      "text/plain": [
       "array([1, 0, 0, 1, 0, 1, 1, 1, 1, 0, 0, 0, 1, 1, 0, 1, 0, 0, 0, 0, 1, 0,\n",
       "       1, 0, 0, 0, 1, 1, 0, 0, 0, 1, 1, 0, 1, 1, 1, 1])"
      ]
     },
     "execution_count": 253,
     "metadata": {},
     "output_type": "execute_result"
    }
   ],
   "source": [
    "# Write code here to explore the differences between `predict` and `predict_proba`.\n",
    "y_pred = model_logr.predict(X_test)\n",
    "y_pred"
   ]
  },
  {
   "cell_type": "code",
   "execution_count": 259,
   "metadata": {},
   "outputs": [
    {
     "data": {
      "text/plain": [
       "array([[0.02429371, 0.97570629],\n",
       "       [0.99989866, 0.00010134],\n",
       "       [0.99698264, 0.00301736],\n",
       "       [0.00000255, 0.99999745],\n",
       "       [0.90329992, 0.09670008],\n",
       "       [0.0053384 , 0.9946616 ],\n",
       "       [0.00098913, 0.99901087],\n",
       "       [0.0252389 , 0.9747611 ],\n",
       "       [0.18169869, 0.81830131],\n",
       "       [0.92221817, 0.07778183],\n",
       "       [0.97054522, 0.02945478],\n",
       "       [0.96932463, 0.03067537],\n",
       "       [0.18692796, 0.81307204],\n",
       "       [0.02543154, 0.97456846],\n",
       "       [0.56057142, 0.43942858],\n",
       "       [0.13711954, 0.86288046],\n",
       "       [0.99999774, 0.00000226],\n",
       "       [0.99948719, 0.00051281],\n",
       "       [0.99916089, 0.00083911],\n",
       "       [0.93786338, 0.06213662],\n",
       "       [0.00063882, 0.99936118],\n",
       "       [0.97124696, 0.02875304],\n",
       "       [0.01662236, 0.98337764],\n",
       "       [0.93279665, 0.06720335],\n",
       "       [0.99353454, 0.00646546],\n",
       "       [0.99998443, 0.00001557],\n",
       "       [0.00001501, 0.99998499],\n",
       "       [0.04192722, 0.95807278],\n",
       "       [0.94059516, 0.05940484],\n",
       "       [0.68427892, 0.31572108],\n",
       "       [0.99993419, 0.00006581],\n",
       "       [0.00975381, 0.99024619],\n",
       "       [0.00095172, 0.99904828],\n",
       "       [0.95359567, 0.04640433],\n",
       "       [0.00036041, 0.99963959],\n",
       "       [0.05284069, 0.94715931],\n",
       "       [0.00162465, 0.99837535],\n",
       "       [0.00002274, 0.99997726]])"
      ]
     },
     "execution_count": 259,
     "metadata": {},
     "output_type": "execute_result"
    }
   ],
   "source": [
    "np.set_printoptions(suppress=True)\n",
    "y_pred_prob = model_logr.predict_proba(X_test)\n",
    "y_pred_prob"
   ]
  },
  {
   "cell_type": "code",
   "execution_count": 258,
   "metadata": {},
   "outputs": [
    {
     "data": {
      "text/plain": [
       "array([0.97570629, 0.00010134, 0.00301736, 0.99999745, 0.09670008,\n",
       "       0.9946616 , 0.99901087, 0.9747611 , 0.81830131, 0.07778183,\n",
       "       0.02945478, 0.03067537, 0.81307204, 0.97456846, 0.43942858,\n",
       "       0.86288046, 0.00000226, 0.00051281, 0.00083911, 0.06213662,\n",
       "       0.99936118, 0.02875304, 0.98337764, 0.06720335, 0.00646546,\n",
       "       0.00001557, 0.99998499, 0.95807278, 0.05940484, 0.31572108,\n",
       "       0.00006581, 0.99024619, 0.99904828, 0.04640433, 0.99963959,\n",
       "       0.94715931, 0.99837535, 0.99997726])"
      ]
     },
     "execution_count": 258,
     "metadata": {},
     "output_type": "execute_result"
    }
   ],
   "source": [
    "y_pred_prob = model_logr.predict_proba(X_test)[:,1]\n",
    "y_pred_prob"
   ]
  },
  {
   "cell_type": "markdown",
   "metadata": {},
   "source": [
    "**Give your written answer here:**\n",
    "\n",
    "The difference between ***predict** and predict_proba is that predict will give you output like 0,1. Whereas predict_proba will give you the probability value of y being 0 or 1.\n",
    "\n",
    "`model_logr.predict(X_test)`\n",
    "`array([1, 0, 0,...)`\n",
    "       \n",
    "***predict_proba** gives you the probabilities for the target in array form. The number of probabilities for each row is equal to the number of categories the in target variable.  Since this is binary its 2.  1 or 0.\n",
    "\n",
    "`model_logr.predict_proba(X_test)`\n",
    "\n",
    "`array([[0.02429371, 0.97570629],\n",
    "       [0.99989866, 0.00010134],\n",
    "       [0.99698264, 0.00301736],...])`\n",
    "\n",
    "The first # in each row is the probability that the output will be 0 and second is the probability of output being 1.\n",
    "\n",
    "If you only want the probability of getting the output either as 0 or 1, thereby getting only one result per category you can use the following code:\n",
    "\n",
    "`model_logr.predict_proba(X_test)[:,1]`  \n",
    "`#array([0.97570629, 0.00010134, 0.00301736,...])`\n",
    "\n",
    "Here, model_logr is the trained model. X_test is the dataset we made predictions for.\n",
    "\n",
    "Using [:,1] in the code will give you the probabilities of getting the output as 1. If you replace 1 with 0 in the above code, you will only get the probabilities of getting the output as 0.]]\n",
    "\n",
    "Now where to use predict and predict_proba.\n",
    "Predict can be used normally to get prediction values.\n",
    "\n",
    "But suppose you are working on cancer diagnosis problem and you want to be very sure with your results. So in that case you can use predict_proba which will give you class probability values and you can set some threshold like if predict_proba_value > .98 return class 1 else 0. So basically with the help of predit_proba we can set threshold as per our needs."
   ]
  }
 ],
 "metadata": {
  "colab": {
   "collapsed_sections": [],
   "name": "LS_DS_214_solution.ipynb",
   "provenance": []
  },
  "kernelspec": {
   "display_name": "Python 3 (ipykernel)",
   "language": "python",
   "name": "python3"
  },
  "language_info": {
   "codemirror_mode": {
    "name": "ipython",
    "version": 3
   },
   "file_extension": ".py",
   "mimetype": "text/x-python",
   "name": "python",
   "nbconvert_exporter": "python",
   "pygments_lexer": "ipython3",
   "version": "3.9.6"
  }
 },
 "nbformat": 4,
 "nbformat_minor": 1
}
